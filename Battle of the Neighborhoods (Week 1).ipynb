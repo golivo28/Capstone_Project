{
    "cells": [
        {
            "cell_type": "markdown",
            "metadata": {
                "colab_type": "text",
                "id": "kUETUEvvLPoE"
            },
            "source": "# **Capstone Project - The Battle of the Neighborhoods**\n## **Applied Data Science Capstone by IBM/Coursera**"
        },
        {
            "cell_type": "markdown",
            "metadata": {
                "colab_type": "text",
                "id": "ZG6neYWOMU1z"
            },
            "source": "## Table of Contents:\n\n\n\n*   ### Introduction: Business Problem\n*   ### Data\n\n"
        },
        {
            "cell_type": "markdown",
            "metadata": {
                "colab_type": "text",
                "id": "UhfDb6RSM_R6"
            },
            "source": "## Introtuction : Business Problem"
        },
        {
            "cell_type": "markdown",
            "metadata": {
                "colab_type": "text",
                "id": "HBoT6rvoNLTB"
            },
            "source": "### This project is intended to bring information to interested stakeholders about the best location for opening a **New Age Store** in the city of **Barranquilla** in  Colombia.\n### The location of the store which will be the most adequate, will be near an area in which new age related activities are held, such as yoga, meditation, also vegetarian restaurants will serve as a reference point, since vegetarianism is also considered a trend among those who are in the New Age."
        },
        {
            "cell_type": "markdown",
            "metadata": {
                "colab_type": "text",
                "id": "G6Vd56F6RKH4"
            },
            "source": "## Data"
        },
        {
            "cell_type": "markdown",
            "metadata": {
                "colab_type": "text",
                "id": "jv4TrXrYSmL_"
            },
            "source": "### Data considered relevant to the analysis will the amount of yoga centers and vegetarian restaurants of a specified area in the city.\n### **Foursquare will** be used as the source of the location of the above mentioned places. Aditionally, **geocoder API** will give the location of Barranquilla for the analysis."
        },
        {
            "cell_type": "code",
            "execution_count": null,
            "metadata": {
                "colab": {},
                "colab_type": "code",
                "id": "1bEVNhtPTpSH"
            },
            "outputs": [],
            "source": ""
        }
    ],
    "metadata": {
        "colab": {
            "name": "Untitled1.ipynb",
            "provenance": []
        },
        "kernelspec": {
            "display_name": "Python 3.6",
            "language": "python",
            "name": "python3"
        },
        "language_info": {
            "codemirror_mode": {
                "name": "ipython",
                "version": 3
            },
            "file_extension": ".py",
            "mimetype": "text/x-python",
            "name": "python",
            "nbconvert_exporter": "python",
            "pygments_lexer": "ipython3",
            "version": "3.6.9"
        }
    },
    "nbformat": 4,
    "nbformat_minor": 1
}